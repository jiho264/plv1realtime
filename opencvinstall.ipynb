{
 "cells": [
  {
   "cell_type": "markdown",
   "metadata": {},
   "source": [
    "# install OpenCV for oCam"
   ]
  },
  {
   "cell_type": "markdown",
   "metadata": {},
   "source": [
    "official github : \n",
    "http://withrobot.com/camera/ocams-1cgn-u/"
   ]
  },
  {
   "cell_type": "markdown",
   "metadata": {},
   "source": [
    "https://hidden-loca.tistory.com/47"
   ]
  },
  {
   "cell_type": "code",
   "execution_count": 7,
   "metadata": {},
   "outputs": [
    {
     "name": "stdout",
     "output_type": "stream",
     "text": [
      "3.4.18\n"
     ]
    }
   ],
   "source": [
    "!pkg-config --modversion opencv "
   ]
  },
  {
   "cell_type": "code",
   "execution_count": null,
   "metadata": {},
   "outputs": [],
   "source": [
    "# <<Danger>>\n",
    "# when you use this commend, replace '@@' to '!'\n",
    "@@sudo find /usr/ -name \"*opencv*\" -exec rm -r {} \\;\n",
    "@@sudo find /usr/ -name \"*OpenCV*\" -exec rm -r {} \\;"
   ]
  },
  {
   "cell_type": "code",
   "execution_count": null,
   "metadata": {},
   "outputs": [],
   "source": [
    "!cd ~"
   ]
  },
  {
   "cell_type": "markdown",
   "metadata": {},
   "source": [
    "## Download OpenCV 3.4.18"
   ]
  },
  {
   "cell_type": "code",
   "execution_count": null,
   "metadata": {},
   "outputs": [],
   "source": [
    "!mkdir opencv && cd opencv\n",
    "\n",
    "!wget -O opencv.zip https://github.com/opencv/opencv/archive/3.4.18.zip\n",
    "!unzip opencv.zip\n",
    "\n",
    "!wget -O opencv_contrib.zip https://github.com/opencv/opencv_contrib/archive/3.4.18.zip\n",
    "!unzip opencv_contrib.zip\n",
    "\n",
    "!cd opencv-4.4.0\n",
    "!mkdir build && cd build"
   ]
  },
  {
   "cell_type": "markdown",
   "metadata": {},
   "source": [
    "## Build"
   ]
  },
  {
   "cell_type": "code",
   "execution_count": null,
   "metadata": {},
   "outputs": [],
   "source": [
    "# copy & paste\n",
    "cmake -D CMAKE_BUILD_TYPE=RELEASE \\\n",
    "-D CMAKE_C_COMPILER=/usr/bin/gcc-8 \\\n",
    "-D CMAKE_INSTALL_PREFIX=/usr/local \\\n",
    "-D INSTALL_PYTHON_EXAMPLES=ON \\\n",
    "-D INSTALL_C_EXAMPLES=ON \\\n",
    "-D BUILD_DOCS=OFF \\\n",
    "-D BUILD_PERF_TESTS=OFF \\\n",
    "-D BUILD_TESTS=OFF \\\n",
    "-D BUILD_PACKAGE=OFF \\\n",
    "-D BUILD_EXAMPLES=OFF \\\n",
    "-D WITH_TBB=ON \\\n",
    "-D ENABLE_FAST_MATH=1 \\\n",
    "-D WITH_CUBLAS=ON \\\n",
    "-D WITH_CUFFT=ON \\\n",
    "-D WITH_NVCUVID=ON \\\n",
    "-D WITH_IPP=OFF \\\n",
    "-D WITH_V4L=ON \\\n",
    "-D WITH_1394=OFF \\\n",
    "-D WITH_GTK=ON \\\n",
    "-D WITH_QT=OFF \\\n",
    "-D WITH_OPENGL=ON \\\n",
    "-D WITH_EIGEN=ON \\\n",
    "-D WITH_FFMPEG=ON \\\n",
    "-D WITH_GSTREAMER=ON \\\n",
    "-D BUILD_JAVA=OFF \\\n",
    "-D BUILD_opencv_python3=ON \\\n",
    "-D BUILD_opencv_python2=OFF \\\n",
    "-D BUILD_NEW_PYTHON_SUPPORT=ON \\\n",
    "-D OPENCV_SKIP_PYTHON_LOADER=ON \\\n",
    "-D OPENCV_GENERATE_PKGCONFIG=ON \\\n",
    "-D OPENCV_ENABLE_NONFREE=ON \\\n",
    "-D OPENCV_EXTRA_MODULES_PATH=../../opencv_contrib-3.4.18/modules .. "
   ]
  },
  {
   "cell_type": "code",
   "execution_count": null,
   "metadata": {},
   "outputs": [],
   "source": [
    "!time make -j10"
   ]
  },
  {
   "cell_type": "markdown",
   "metadata": {},
   "source": [
    "## Install"
   ]
  },
  {
   "cell_type": "code",
   "execution_count": null,
   "metadata": {},
   "outputs": [],
   "source": [
    "!sudo make install"
   ]
  },
  {
   "cell_type": "code",
   "execution_count": null,
   "metadata": {},
   "outputs": [],
   "source": [
    "!sudo ldconfig"
   ]
  },
  {
   "cell_type": "markdown",
   "metadata": {},
   "source": [
    "## Catkin_make"
   ]
  },
  {
   "cell_type": "code",
   "execution_count": 3,
   "metadata": {},
   "outputs": [
    {
     "name": "stdout",
     "output_type": "stream",
     "text": [
      "/home/jiho/catkin_ws\n"
     ]
    }
   ],
   "source": [
    "%cd /home/jiho/catkin_ws"
   ]
  },
  {
   "cell_type": "code",
   "execution_count": 5,
   "metadata": {},
   "outputs": [
    {
     "name": "stdout",
     "output_type": "stream",
     "text": [
      "Bus 002 Device 003: ID 2717:5013 Xiaomi Inc. \n",
      "Bus 002 Device 002: ID 8087:0024 Intel Corp. Integrated Rate Matching Hub\n",
      "Bus 002 Device 001: ID 1d6b:0002 Linux Foundation 2.0 root hub\n",
      "Bus 004 Device 004: ID 04b4:00f9 Cypress Semiconductor Corp. oCamS-1CGN-U-F\n",
      "Bus 004 Device 001: ID 1d6b:0003 Linux Foundation 3.0 root hub\n",
      "Bus 003 Device 001: ID 1d6b:0002 Linux Foundation 2.0 root hub\n",
      "Bus 001 Device 004: ID 0c76:160a JMTek, LLC. \n",
      "Bus 001 Device 006: ID 046d:c085 Logitech, Inc. \n",
      "Bus 001 Device 005: ID 0c45:b23c Microdia \n",
      "Bus 001 Device 003: ID 1a40:0101 Terminus Technology Inc. Hub\n",
      "Bus 001 Device 002: ID 8087:0024 Intel Corp. Integrated Rate Matching Hub\n",
      "Bus 001 Device 001: ID 1d6b:0002 Linux Foundation 2.0 root hub\n"
     ]
    }
   ],
   "source": [
    "# check your cam_name\n",
    "!lsusb"
   ]
  },
  {
   "cell_type": "markdown",
   "metadata": {},
   "source": [
    "edit 'oCams.cpp'\n",
    "line 99\n",
    "    if (dev_list[i].product == \"oCamS-1CGN-U\")\n",
    ">>> if (dev_list[i].product == \"oCamS-1CGN-U-F\")"
   ]
  },
  {
   "cell_type": "code",
   "execution_count": 6,
   "metadata": {},
   "outputs": [
    {
     "name": "stdout",
     "output_type": "stream",
     "text": [
      "Base path: /home/jiho/catkin_ws\n",
      "Source space: /home/jiho/catkin_ws/src\n",
      "Build space: /home/jiho/catkin_ws/build\n",
      "Devel space: /home/jiho/catkin_ws/devel\n",
      "Install space: /home/jiho/catkin_ws/install\n",
      "\u001b[34m####\u001b[0m\n",
      "\u001b[34m#### Running command: \u001b[1m\"make cmake_check_build_system\"\u001b[0m\u001b[34m in \u001b[1m\"/home/jiho/catkin_ws/build\"\u001b[0m\n",
      "\u001b[34m####\u001b[0m\n",
      "-- Using CATKIN_DEVEL_PREFIX: /home/jiho/catkin_ws/devel\n",
      "\u001b[0m-- Using CMAKE_PREFIX_PATH: /opt/ros/noetic\n",
      "\u001b[0m-- This workspace overlays: /opt/ros/noetic\n",
      "\u001b[0m-- Found PythonInterp: /usr/bin/python3 (found suitable version \"3.8.10\", minimum required is \"3\") \n",
      "\u001b[0m-- Using PYTHON_EXECUTABLE: /usr/bin/python3\n",
      "\u001b[0m-- Using Debian Python package layout\n",
      "\u001b[0m-- Using empy: /usr/lib/python3/dist-packages/em.py\n",
      "\u001b[0m-- Using CATKIN_ENABLE_TESTING: ON\n",
      "\u001b[0m-- Call enable_testing()\n",
      "\u001b[0m-- Using CATKIN_TEST_RESULTS_DIR: /home/jiho/catkin_ws/build/test_results\n",
      "\u001b[0m-- Forcing gtest/gmock from source, though one was otherwise available.\n",
      "\u001b[0m-- Found gtest sources under '/usr/src/googletest': gtests will be built\n",
      "\u001b[0m-- Found gmock sources under '/usr/src/googletest': gmock will be built\n",
      "\u001b[0mCMake Deprecation Warning at /usr/src/googletest/CMakeLists.txt:4 (cmake_minimum_required):\n",
      "\u001b[0m  Compatibility with CMake < 2.8.12 will be removed from a future version of\n",
      "\u001b[0m  CMake.\n",
      "\u001b[0m\n",
      "\u001b[0m  Update the VERSION argument <min> value or use a ...<max> suffix to tell\n",
      "\u001b[0m  CMake that the project does not need compatibility with older versions.\n",
      "\u001b[0m\n",
      "\u001b[0m\n",
      "\u001b[0mCMake Deprecation Warning at /usr/src/googletest/googlemock/CMakeLists.txt:45 (cmake_minimum_required):\n",
      "\u001b[0m  Compatibility with CMake < 2.8.12 will be removed from a future version of\n",
      "\u001b[0m  CMake.\n",
      "\u001b[0m\n",
      "\u001b[0m  Update the VERSION argument <min> value or use a ...<max> suffix to tell\n",
      "\u001b[0m  CMake that the project does not need compatibility with older versions.\n",
      "\u001b[0m\n",
      "\u001b[0m\n",
      "\u001b[0mCMake Deprecation Warning at /usr/src/googletest/googletest/CMakeLists.txt:56 (cmake_minimum_required):\n",
      "\u001b[0m  Compatibility with CMake < 2.8.12 will be removed from a future version of\n",
      "\u001b[0m  CMake.\n",
      "\u001b[0m\n",
      "\u001b[0m  Update the VERSION argument <min> value or use a ...<max> suffix to tell\n",
      "\u001b[0m  CMake that the project does not need compatibility with older versions.\n",
      "\u001b[0m\n",
      "\u001b[0m\n",
      "\u001b[0m-- Found PythonInterp: /usr/bin/python3 (found version \"3.8.10\") \n",
      "\u001b[0m-- Using Python nosetests: /usr/bin/nosetests3\n",
      "\u001b[0m-- catkin 0.8.10\n",
      "\u001b[0m-- BUILD_SHARED_LIBS is on\n",
      "\u001b[0m-- BUILD_SHARED_LIBS is on\n",
      "\u001b[0m-- \u001b[35m~~~~~~~~~~~~~~~~~~~~~~~~~~~~~~~~~~~~~~~~~~~~~~~~~\u001b[0m\n",
      "\u001b[0m-- \u001b[35m~~ \u001b[0m traversing 3 packages in topological order:\n",
      "\u001b[0m-- \u001b[35m~~ \u001b[0m - \u001b[1m\u001b[34mbeginner_tutorials\n",
      "\u001b[0m-- \u001b[35m~~ \u001b[0m - \u001b[1m\u001b[34mocams_1cgn\n",
      "\u001b[0m-- \u001b[35m~~ \u001b[0m - \u001b[1m\u001b[34mmy_pcl_tutorial\n",
      "\u001b[0m-- \u001b[35m~~~~~~~~~~~~~~~~~~~~~~~~~~~~~~~~~~~~~~~~~~~~~~~~~\u001b[0m\n",
      "\u001b[0m-- \u001b[1m\u001b[32m+++\u001b[0m processing catkin package: '\u001b[1m\u001b[34mbeginner_tutorials\u001b[0m\u001b[0m'\n",
      "\u001b[0m-- \u001b[1m\u001b[34m==>\u001b[0m add_subdirectory(beginner_tutorials)\n",
      "\u001b[0m-- Installing devel-space wrapper /home/jiho/catkin_ws/src/beginner_tutorials/scripts/talker.py to /home/jiho/catkin_ws/devel/lib/beginner_tutorials\n",
      "\u001b[0m-- Installing devel-space wrapper /home/jiho/catkin_ws/src/beginner_tutorials/scripts/talker.py to /home/jiho/catkin_ws/devel/lib/beginner_tutorials\n",
      "\u001b[0m-- Installing devel-space wrapper /home/jiho/catkin_ws/src/beginner_tutorials/scripts/listener.py to /home/jiho/catkin_ws/devel/lib/beginner_tutorials\n",
      "\u001b[0m-- Installing devel-space wrapper /home/jiho/catkin_ws/src/beginner_tutorials/src/run.py to /home/jiho/catkin_ws/devel/lib/beginner_tutorials\n",
      "\u001b[0m-- \u001b[1m\u001b[32m+++\u001b[0m processing catkin package: '\u001b[1m\u001b[34mocams_1cgn\u001b[0m\u001b[0m'\n",
      "\u001b[0m-- \u001b[1m\u001b[34m==>\u001b[0m add_subdirectory(ocams_1cgn)\n",
      "\u001b[0mCMake Deprecation Warning at ocams_1cgn/CMakeLists.txt:1 (cmake_minimum_required):\n",
      "\u001b[0m  Compatibility with CMake < 2.8.12 will be removed from a future version of\n",
      "\u001b[0m  CMake.\n",
      "\u001b[0m\n",
      "\u001b[0m  Update the VERSION argument <min> value or use a ...<max> suffix to tell\n",
      "\u001b[0m  CMake that the project does not need compatibility with older versions.\n",
      "\u001b[0m\n",
      "\u001b[0m\n",
      "\u001b[0m-- Using these message generators: gencpp;geneus;genlisp;gennodejs;genpy\n",
      "\u001b[0m-- Found OpenCV: /usr/local (found version \"3.4.18\") \n",
      "\u001b[0m-- \u001b[1m\u001b[32m+++\u001b[0m processing catkin package: '\u001b[1m\u001b[34mmy_pcl_tutorial\u001b[0m\u001b[0m'\n",
      "\u001b[0m-- \u001b[1m\u001b[34m==>\u001b[0m add_subdirectory(my_pcl_tutorial)\n",
      "\u001b[0m-- Using these message generators: gencpp;geneus;genlisp;gennodejs;genpy\n",
      "\u001b[0m-- Configuring done\n",
      "\u001b[0m-- Generating done\n",
      "\u001b[0m-- Build files have been written to: /home/jiho/catkin_ws/build\n",
      "\u001b[0m\u001b[34m####\u001b[0m\n",
      "\u001b[34m#### Running command: \u001b[1m\"make -j8 -l8\"\u001b[0m\u001b[34m in \u001b[1m\"/home/jiho/catkin_ws/build\"\u001b[0m\n",
      "\u001b[34m####\u001b[0m\n",
      "[ 14%] Built target ocams_1cgn_gencfg\n",
      "\u001b[35m\u001b[1mConsolidate compiler generated dependencies of target example\u001b[0m\n",
      "\u001b[35m\u001b[1mConsolidate compiler generated dependencies of target ocams_1cgn\u001b[0m\n",
      "[ 42%] Built target example\n",
      "[ 57%] \u001b[32mBuilding CXX object ocams_1cgn/CMakeFiles/ocams_1cgn.dir/src/oCamS.cpp.o\u001b[0m\n",
      "[ 71%] \u001b[32m\u001b[1mLinking CXX executable /home/jiho/catkin_ws/devel/lib/ocams_1cgn/ocams_1cgn\u001b[0m\n",
      "[100%] Built target ocams_1cgn\n"
     ]
    }
   ],
   "source": [
    "!catkin_make"
   ]
  },
  {
   "cell_type": "markdown",
   "metadata": {},
   "source": [
    "https://github.com/NVIDIA/DALI/issues/735\n",
    "            cv::cvtColor(left_raw, left_rgb, cv::COLOR_BayerGR2RGB);\n",
    "            cv::cvtColor(right_raw, right_mono, cv::COLOR_BayerGR2GRAY);\n",
    "\n",
    "            Rectification(left_rgb, right_mono, map11, map12, map21, map22, left_rect_color, right_rect_mono);\n",
    "            cv::cvtColor(left_rect_color, left_rect_mono, cv::COLOR_BGR2GRAY);\n",
    "    \n",
    "image_geometry 안 지우고, 그냥 oCams.cpp에서 이 부분 수정해도 빌드 가능.\n",
    "\n",
    "https://github.com/withrobot/oCamS/issues/5"
   ]
  }
 ],
 "metadata": {
  "kernelspec": {
   "display_name": "Python 3.8.10 64-bit",
   "language": "python",
   "name": "python3"
  },
  "language_info": {
   "codemirror_mode": {
    "name": "ipython",
    "version": 3
   },
   "file_extension": ".py",
   "mimetype": "text/x-python",
   "name": "python",
   "nbconvert_exporter": "python",
   "pygments_lexer": "ipython3",
   "version": "3.8.10"
  },
  "orig_nbformat": 4,
  "vscode": {
   "interpreter": {
    "hash": "916dbcbb3f70747c44a77c7bcd40155683ae19c65e1c03b4aa3499c5328201f1"
   }
  }
 },
 "nbformat": 4,
 "nbformat_minor": 2
}
